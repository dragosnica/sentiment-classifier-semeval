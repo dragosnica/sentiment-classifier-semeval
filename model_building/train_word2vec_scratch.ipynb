{
 "cells": [
  {
   "cell_type": "code",
   "execution_count": 35,
   "metadata": {},
   "outputs": [],
   "source": [
    "from NN_utils import *\n",
    "from gensim.models import Word2Vec\n",
    "from gensim.models.keyedvectors import KeyedVectors\n",
    "from gensim.test.utils import get_tmpfile\n",
    "import sys\n",
    "sys.path.insert(0, \"../data_preprocessing\")\n",
    "import twokenize"
   ]
  },
  {
   "cell_type": "code",
   "execution_count": 26,
   "metadata": {},
   "outputs": [],
   "source": [
    "_, X_train, _ = csv_to_np(\"../data/processed/csv/proc-twitter-training-data.csv\")\n",
    "X_train_processed = list()\n",
    "\n",
    "for sentence in X_train:\n",
    "    X_train_processed.append(twokenize.tokenizeRawTweetText(sentence))"
   ]
  },
  {
   "cell_type": "code",
   "execution_count": 45,
   "metadata": {},
   "outputs": [],
   "source": [
    "vector_size = 50\n",
    "model = Word2Vec(X_train_processed, size=vector_size, window=5, min_count=3, workers=8)\n",
    "model_keyed_vectors = model.wv\n",
    "\n",
    "model_keyed_vectors.save_word2vec_format(\"../data/word_embeddings/new_word2vec_\"+str(vector_size)+\"d.model\", binary=False)"
   ]
  },
  {
   "cell_type": "code",
   "execution_count": 42,
   "metadata": {},
   "outputs": [
    {
     "data": {
      "text/plain": [
       "<gensim.models.keyedvectors.Word2VecKeyedVectors at 0x1366c9780>"
      ]
     },
     "execution_count": 42,
     "metadata": {},
     "output_type": "execute_result"
    }
   ],
   "source": [
    "model_keyed_vectors"
   ]
  },
  {
   "cell_type": "code",
   "execution_count": null,
   "metadata": {},
   "outputs": [],
   "source": []
  }
 ],
 "metadata": {
  "kernelspec": {
   "display_name": "Python 3",
   "language": "python",
   "name": "python3"
  },
  "language_info": {
   "codemirror_mode": {
    "name": "ipython",
    "version": 3
   },
   "file_extension": ".py",
   "mimetype": "text/x-python",
   "name": "python",
   "nbconvert_exporter": "python",
   "pygments_lexer": "ipython3",
   "version": "3.7.2"
  }
 },
 "nbformat": 4,
 "nbformat_minor": 2
}
