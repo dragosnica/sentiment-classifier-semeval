{
 "cells": [
  {
   "cell_type": "code",
   "execution_count": 1,
   "metadata": {},
   "outputs": [
    {
     "name": "stderr",
     "output_type": "stream",
     "text": [
      "Using TensorFlow backend.\n"
     ]
    }
   ],
   "source": [
    "from sklearn.feature_extraction.text import TfidfVectorizer\n",
    "from sklearn.linear_model import LogisticRegression, Perceptron, SGDClassifier\n",
    "from sklearn.model_selection import GridSearchCV\n",
    "from sklearn.svm import LinearSVC\n",
    "from sklearn.decomposition import PCA\n",
    "import matplotlib.pyplot as plt\n",
    "from NN_utils import *\n",
    "import sys\n",
    "sys.path.insert(0, \"../\")\n",
    "from testsets import *\n",
    "import evaluation"
   ]
  },
  {
   "cell_type": "code",
   "execution_count": 3,
   "metadata": {},
   "outputs": [],
   "source": [
    "def evaluate(model, vectorizer, test_data_file):\n",
    "\tID_test, X_test, Y_test = csv_to_np(test_data_file[0])\n",
    "\tX_test_vec = vectorizer.transform(X_test)\n",
    "\n",
    "\tpredictions = model.predict(X_test_vec)\n",
    "\tpred_dict = dict()\n",
    "\tfor i in range(len(predictions)):\n",
    "\t\tpred_dict[str(ID_test[i])] = label_to_sentiment(predictions[i])\n",
    "\n",
    "\taccuracy = model.score(X_test_vec, Y_test)\n",
    "# \tloss, accuracy = model.evaluate(X_test_vec, Y_test_one_hot)\n",
    "\n",
    "# \tprint()\n",
    "# \tprint(\"Loss = \", loss)\n",
    "\tprint(\"Test accuracy = \" + str(accuracy*100) + \"%\")\n",
    "\n",
    "\tevaluation.evaluate(pred_dict, test_data_file[1], str(type(model).__name__))\n",
    "\tevaluation.confusion(pred_dict, test_data_file[1], str(type(model).__name__))"
   ]
  },
  {
   "cell_type": "code",
   "execution_count": 4,
   "metadata": {},
   "outputs": [],
   "source": [
    "def test_model(model, vectorizer):\n",
    "\tfor testset in testsets:\n",
    "\t\tevaluate(model, vectorizer, testset)\n",
    "\t\t# model.show_errors(testset[0])"
   ]
  },
  {
   "cell_type": "code",
   "execution_count": 5,
   "metadata": {},
   "outputs": [],
   "source": [
    "'''Load data'''\n",
    "train_data_file = \"../data/processed/csv/proc-twitter-training-data.csv\" \n",
    "dev_data_file = \"../data/processed/csv/proc-twitter-dev-data.csv\"\n",
    "\n",
    "_, X_train, Y_train = csv_to_np(train_data_file)\n",
    "_, X_dev, Y_dev = csv_to_np(dev_data_file)"
   ]
  },
  {
   "cell_type": "code",
   "execution_count": 6,
   "metadata": {},
   "outputs": [],
   "source": [
    "'''TFIDF features extraction'''\n",
    "vectorizer = TfidfVectorizer().set_params(ngram_range=(1,2))\n",
    "X_train = vectorizer.fit_transform(X_train)\n",
    "X_dev = vectorizer.transform(X_dev)"
   ]
  },
  {
   "cell_type": "code",
   "execution_count": 7,
   "metadata": {},
   "outputs": [
    {
     "name": "stdout",
     "output_type": "stream",
     "text": [
      "(45101, 378045)\n"
     ]
    }
   ],
   "source": [
    "print(X_train.shape)"
   ]
  },
  {
   "cell_type": "code",
   "execution_count": 9,
   "metadata": {},
   "outputs": [
    {
     "name": "stdout",
     "output_type": "stream",
     "text": [
      "Fitting 5 folds for each of 18 candidates, totalling 90 fits\n"
     ]
    },
    {
     "name": "stderr",
     "output_type": "stream",
     "text": [
      "[Parallel(n_jobs=-1)]: Using backend LokyBackend with 8 concurrent workers.\n",
      "[Parallel(n_jobs=-1)]: Done  34 tasks      | elapsed:    5.7s\n",
      "[Parallel(n_jobs=-1)]: Done  90 out of  90 | elapsed:   12.4s finished\n"
     ]
    },
    {
     "name": "stdout",
     "output_type": "stream",
     "text": [
      "GridSearchCV training accuracy:  0.9627946165273498\n",
      "GridSearchCV validation accuracy:  0.6505\n",
      "Best parameters found:  {'alpha': 1e-05, 'loss': 'hinge'}\n",
      "Test accuracy = 66.10025488530161%\n",
      "../data/processed/txt/proc-twitter-test1.txt (GridSearchCV):\n",
      "MacroF1: 0.573\n",
      "            positive  negative  neutral\n",
      "positive    0.674     0.074     0.251     \n",
      "negative    0.116     0.713     0.172     \n",
      "neutral     0.241     0.144     0.614     \n",
      "\n",
      "Test accuracy = 65.51538046411225%\n",
      "../data/processed/txt/proc-twitter-test2.txt (GridSearchCV):\n",
      "MacroF1: 0.583\n",
      "            positive  negative  neutral\n",
      "positive    0.702     0.058     0.240     \n",
      "negative    0.120     0.676     0.204     \n",
      "neutral     0.375     0.093     0.532     \n",
      "\n",
      "Test accuracy = 63.30390920554855%\n",
      "../data/processed/txt/proc-twitter-test3.txt (GridSearchCV):\n",
      "MacroF1: 0.526\n",
      "            positive  negative  neutral\n",
      "positive    0.687     0.072     0.240     \n",
      "negative    0.185     0.595     0.220     \n",
      "neutral     0.304     0.138     0.558     \n",
      "\n"
     ]
    }
   ],
   "source": [
    "'''GridSearchCV'''\n",
    "grid_params = {'loss':['hinge', 'log', 'perceptron'], 'alpha': [1e-6, 5e-6, 0.00001, 0.00005, 0.0001, 0.0005]}\n",
    "gridsearch = GridSearchCV(SGDClassifier(early_stopping=True, max_iter=1000, tol=1e-3), grid_params, cv=5, verbose=True, n_jobs=-1).fit(X_train, Y_train)\n",
    "print(\"GridSearchCV training accuracy: \", gridsearch.score(X_train, Y_train))\n",
    "print(\"GridSearchCV validation accuracy: \", gridsearch.score(X_dev, Y_dev))\n",
    "print(\"Best parameters found: \", gridsearch.best_params_)\n",
    "test_model(gridsearch, vectorizer)"
   ]
  },
  {
   "cell_type": "code",
   "execution_count": 10,
   "metadata": {},
   "outputs": [
    {
     "name": "stderr",
     "output_type": "stream",
     "text": [
      "/usr/local/lib/python3.7/site-packages/sklearn/linear_model/logistic.py:758: ConvergenceWarning: lbfgs failed to converge. Increase the number of iterations.\n",
      "  \"of iterations.\", ConvergenceWarning)\n"
     ]
    },
    {
     "name": "stdout",
     "output_type": "stream",
     "text": [
      "LGR Training accuracy:  0.9126183454912308\n",
      "LGR Validation accuracy:  0.6575\n",
      "Test accuracy = 64.17445482866043%\n",
      "../data/processed/txt/proc-twitter-test1.txt (LogisticRegression):\n",
      "MacroF1: 0.489\n",
      "            positive  negative  neutral\n",
      "positive    0.662     0.085     0.254     \n",
      "negative    0.087     0.819     0.094     \n",
      "neutral     0.240     0.172     0.588     \n",
      "\n",
      "Test accuracy = 65.94711279007016%\n",
      "../data/processed/txt/proc-twitter-test2.txt (LogisticRegression):\n",
      "MacroF1: 0.502\n",
      "            positive  negative  neutral\n",
      "positive    0.697     0.075     0.227     \n",
      "negative    0.122     0.776     0.102     \n",
      "neutral     0.349     0.110     0.541     \n",
      "\n",
      "Test accuracy = 62.21101303068516%\n",
      "../data/processed/txt/proc-twitter-test3.txt (LogisticRegression):\n",
      "MacroF1: 0.456\n",
      "            positive  negative  neutral\n",
      "positive    0.673     0.093     0.234     \n",
      "negative    0.135     0.708     0.156     \n",
      "neutral     0.307     0.152     0.541     \n",
      "\n"
     ]
    }
   ],
   "source": [
    "'''LGR'''\n",
    "LGR = LogisticRegression(random_state=0, solver='lbfgs', multi_class='multinomial').fit(X_train, Y_train)\n",
    "print(\"LGR Training accuracy: \", LGR.score(X_train, Y_train))\n",
    "print(\"LGR Validation accuracy: \", LGR.score(X_dev, Y_dev))\n",
    "test_model(LGR, vectorizer)"
   ]
  },
  {
   "cell_type": "code",
   "execution_count": 14,
   "metadata": {},
   "outputs": [
    {
     "name": "stderr",
     "output_type": "stream",
     "text": [
      "/usr/local/lib/python3.7/site-packages/sklearn/linear_model/stochastic_gradient.py:166: FutureWarning: max_iter and tol parameters have been added in Perceptron in 0.19. If both are left unset, they default to max_iter=5 and tol=None. If tol is not None, max_iter defaults to max_iter=1000. From 0.21, default max_iter will be 1000, and default tol will be 1e-3.\n",
      "  FutureWarning)\n"
     ]
    },
    {
     "name": "stdout",
     "output_type": "stream",
     "text": [
      "Perceptron Training accuracy:  0.9986031351854726\n",
      "Perceptron Validation accuracy:  0.6325\n",
      "Test accuracy = 64.62758425375247%\n",
      "../data/processed/txt/proc-twitter-test1.txt (Perceptron):\n",
      "MacroF1: 0.568\n",
      "            positive  negative  neutral\n",
      "positive    0.665     0.070     0.265     \n",
      "negative    0.122     0.658     0.220     \n",
      "neutral     0.253     0.146     0.601     \n",
      "\n",
      "Test accuracy = 65.62331354560172%\n",
      "../data/processed/txt/proc-twitter-test2.txt (Perceptron):\n",
      "MacroF1: 0.588\n",
      "            positive  negative  neutral\n",
      "positive    0.701     0.056     0.243     \n",
      "negative    0.189     0.622     0.189     \n",
      "neutral     0.368     0.091     0.541     \n",
      "\n",
      "Test accuracy = 61.412358133669606%\n",
      "../data/processed/txt/proc-twitter-test3.txt (Perceptron):\n",
      "MacroF1: 0.517\n",
      "            positive  negative  neutral\n",
      "positive    0.656     0.076     0.267     \n",
      "negative    0.227     0.492     0.281     \n",
      "neutral     0.306     0.138     0.556     \n",
      "\n"
     ]
    }
   ],
   "source": [
    "'''Perceptron'''\n",
    "Perceptron = Perceptron().fit(X_train, Y_train)\n",
    "print(\"Perceptron Training accuracy: \", Perceptron.score(X_train, Y_train))\n",
    "print(\"Perceptron Validation accuracy: \", Perceptron.score(X_dev, Y_dev))\n",
    "test_model(Perceptron, vectorizer)"
   ]
  },
  {
   "cell_type": "code",
   "execution_count": 15,
   "metadata": {},
   "outputs": [
    {
     "name": "stdout",
     "output_type": "stream",
     "text": [
      "LinearSVC Training accuracy:  0.9990244118755681\n",
      "LinearSVC Validation accuracy:  0.657\n",
      "Test accuracy = 66.10025488530161%\n",
      "../data/processed/txt/proc-twitter-test1.txt (LinearSVC):\n",
      "MacroF1: 0.559\n",
      "            positive  negative  neutral\n",
      "positive    0.678     0.072     0.250     \n",
      "negative    0.090     0.783     0.127     \n",
      "neutral     0.238     0.156     0.606     \n",
      "\n",
      "Test accuracy = 65.51538046411225%\n",
      "../data/processed/txt/proc-twitter-test2.txt (LinearSVC):\n",
      "MacroF1: 0.566\n",
      "            positive  negative  neutral\n",
      "positive    0.695     0.065     0.240     \n",
      "negative    0.096     0.747     0.157     \n",
      "neutral     0.367     0.097     0.536     \n",
      "\n",
      "Test accuracy = 63.26187473728457%\n",
      "../data/processed/txt/proc-twitter-test3.txt (LinearSVC):\n",
      "MacroF1: 0.518\n",
      "            positive  negative  neutral\n",
      "positive    0.677     0.077     0.246     \n",
      "negative    0.161     0.655     0.185     \n",
      "neutral     0.309     0.139     0.553     \n",
      "\n"
     ]
    }
   ],
   "source": [
    "'''LinearSVC'''\n",
    "LinearSVC = LinearSVC().fit(X_train, Y_train)\n",
    "print(\"LinearSVC Training accuracy: \", LinearSVC.score(X_train, Y_train))\n",
    "print(\"LinearSVC Validation accuracy: \", LinearSVC.score(X_dev, Y_dev))\n",
    "test_model(LinearSVC, vectorizer)"
   ]
  },
  {
   "cell_type": "code",
   "execution_count": null,
   "metadata": {},
   "outputs": [],
   "source": [
    "'''PLOT TFIDF IN 2D - experiment'''\n",
    "titles = ('2D TFIDF plot')\n",
    "fig, sub = plt.subplots(1, 1)\n",
    "plt.subplots_adjust(wspace=0.2, hspace=0.2)\n",
    "\n",
    "X = X_train.todense()\n",
    "pca = PCA(n_components=2).fit(X)\n",
    "data2D = pca.transform(X)\n",
    "\n",
    "plt.scatter(data2D[:,0], data2D[:,1], c=Y_train)\n",
    "plt.show() "
   ]
  },
  {
   "cell_type": "code",
   "execution_count": null,
   "metadata": {},
   "outputs": [],
   "source": []
  }
 ],
 "metadata": {
  "kernelspec": {
   "display_name": "Python 3",
   "language": "python",
   "name": "python3"
  },
  "language_info": {
   "codemirror_mode": {
    "name": "ipython",
    "version": 3
   },
   "file_extension": ".py",
   "mimetype": "text/x-python",
   "name": "python",
   "nbconvert_exporter": "python",
   "pygments_lexer": "ipython3",
   "version": "3.7.2"
  }
 },
 "nbformat": 4,
 "nbformat_minor": 2
}
